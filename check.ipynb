{
 "cells": [
  {
   "cell_type": "code",
   "execution_count": 3,
   "metadata": {},
   "outputs": [
    {
     "name": "stdout",
     "output_type": "stream",
     "text": [
      "❗ 병명 ≠ 섹션명 인 파일 목록:\n",
      "\n",
      "  📄 눈_안외상(외상성 백내장 및 수정체 ..._안외상(외상성 백내장 및 수정체 이탈).json\n",
      "  📄 내분비_당뇨병 합병증(급성 합병증_당뇨병..._당뇨병 합병증(급성 합병증_ 당뇨병케토산증, 고혈당고삼투질상태).json\n",
      "  📄 피부_조갑감입(파고드는 발톱_감입발톱)_조갑감입(파고드는 발톱 감입발톱).json\n",
      "  📄 뼈근육_흉곽기형(오목가슴, 함몰흉, 누두..._흉곽기형(오목가슴, 함몰흉, 누두흉).json\n",
      "  📄 내분비_당뇨병 합병증(급성 합병증_저혈당..._당뇨병 합병증(급성 합병증_ 저혈당).json\n",
      "  📄 눈_안외상(각막화상)_진단 및 검사.json\n",
      "  📄 뼈근육_건막염_개요-종류.json\n",
      "  📄 피부_겨울철 동상 및 동창 예방요령_겨울철 동상및 동창 예방요령.json\n",
      "\n",
      "✅ 총 불일치 파일 수: 8개\n"
     ]
    }
   ],
   "source": [
    "import os\n",
    "\n",
    "# 검사할 폴더 경로\n",
    "folder_path = \"Database/output/processed_final\"\n",
    "\n",
    "# 불일치 파일 카운트\n",
    "count = 0\n",
    "\n",
    "print(\"❗ 병명 ≠ 섹션명 인 파일 목록:\\n\")\n",
    "\n",
    "for filename in os.listdir(folder_path):\n",
    "    if not filename.endswith(\".json\"):\n",
    "        continue\n",
    "\n",
    "    # 확장자 제거 후 _ 로 split\n",
    "    name_parts = os.path.splitext(filename)[0].split(\"_\")\n",
    "\n",
    "    if len(name_parts) < 3:\n",
    "        continue  # 기대한 형식이 아닌 경우 무시\n",
    "\n",
    "    disease_name = name_parts[-2]\n",
    "    last_section = name_parts[-1]\n",
    "\n",
    "    if disease_name != last_section:\n",
    "        print(f\"  📄 {filename}\")\n",
    "        count += 1\n",
    "\n",
    "print(f\"\\n✅ 총 불일치 파일 수: {count}개\")"
   ]
  },
  {
   "cell_type": "code",
   "execution_count": null,
   "metadata": {},
   "outputs": [],
   "source": []
  }
 ],
 "metadata": {
  "kernelspec": {
   "display_name": "agi_ybgirls",
   "language": "python",
   "name": "python3"
  },
  "language_info": {
   "codemirror_mode": {
    "name": "ipython",
    "version": 3
   },
   "file_extension": ".py",
   "mimetype": "text/x-python",
   "name": "python",
   "nbconvert_exporter": "python",
   "pygments_lexer": "ipython3",
   "version": "3.11.9"
  }
 },
 "nbformat": 4,
 "nbformat_minor": 2
}
