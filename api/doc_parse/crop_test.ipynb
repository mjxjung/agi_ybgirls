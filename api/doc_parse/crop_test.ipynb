{
 "cells": [
  {
   "cell_type": "code",
   "execution_count": null,
   "metadata": {},
   "outputs": [
    {
     "name": "stdout",
     "output_type": "stream",
     "text": [
      "✅병명: 구개열\n"
     ]
    }
   ],
   "source": [
    "from bs4 import BeautifulSoup\n",
    "import json\n",
    "import re\n",
    "\n",
    "with open(\"../output/구강_구개열_crop_parsing.json\", \"r\", encoding=\"utf-8\") as f:\n",
    "    data = json.load(f)\n",
    "\n",
    "html = data['content']['html']\n",
    "soup = BeautifulSoup(html, 'html.parser')\n",
    "\n",
    "# 병명 추출 (h1 없을 때 대비)\n",
    "disease_tag = soup.find(\"h1\")\n",
    "\n",
    "if disease_tag is None:\n",
    "    print(\"[⚠️경고] h1 태그를 찾을 수 없습니다.\")\n",
    "    \n",
    "    # h1이 없으면 font-size:22px인 첫 <p>나 <header>를 찾아서 병명 추출\n",
    "    for tag in soup.find_all([\"p\", \"header\"]):\n",
    "        style = tag.get(\"style\", \"\")\n",
    "        if \"font-size:22px\" in style:\n",
    "            disease_tag = tag\n",
    "            print(\"[⚠️] fontsize 22 태그로 추출했습니다.\")\n",
    "\n",
    "            break\n",
    "\n",
    "# 병명 최종 추출\n",
    "if disease_tag:\n",
    "  disease_name = disease_tag.get_text(strip=True)\n",
    "else:\n",
    "  disease_name = \"Unknown Disease\"\n",
    "  print(\"[⚠️경고] 병명 추출 실패: h1 또는 font-size:22px 태그를 찾을 수 없습니다.\")\n",
    "\n",
    "# 3. 그래도 없으면 '• 콘텐츠명 :' 포함된 텍스트에서 추출\n",
    "if not disease_name:\n",
    "    for tag in soup.find_all(\"p\"):\n",
    "        text = tag.get_text(strip=True)\n",
    "        if \"• 콘텐츠명\" in text:\n",
    "            # \"• 콘텐츠명 : 구개열\" 형식에서 오른쪽 값만 추출\n",
    "            match = re.search(r\"콘텐츠명\\s*:\\s*(.+)\", text)\n",
    "            if match:\n",
    "                disease_name = match.group(1).strip()\n",
    "                break\n",
    "            \n",
    "print(f'✅병명: {disease_name}')\n"
   ]
  },
  {
   "cell_type": "code",
   "execution_count": 43,
   "metadata": {},
   "outputs": [],
   "source": [
    "chunks = []\n",
    "current_section = None\n",
    "current_text = []\n",
    "\n",
    "for tag in soup.find_all([\"h1\", \"h2\", \"header\", \"p\"]):\n",
    "    text = tag.get_text(strip=True)\n",
    "    style = tag.get(\"style\", \"\")\n",
    "\n",
    "    if not text:\n",
    "        continue\n",
    "\n",
    "    # font-size 정보 추출\n",
    "    font_size = 0\n",
    "    if \"font-size:\" in style:\n",
    "        try:\n",
    "            font_size = int(style.split(\"font-size:\")[1].replace(\"px\", \"\").strip())\n",
    "        except:\n",
    "            pass\n",
    "\n",
    "    # 제목 판단: tag 자체가 heading이거나, font-size가 큰 <p> 태그\n",
    "    is_heading = (\n",
    "        tag.name in [\"h1\", \"h2\", \"header\"] or font_size >= 18\n",
    "    )\n",
    "\n",
    "    if is_heading:\n",
    "        # 이전 섹션 저장\n",
    "        if current_section and current_text:\n",
    "            chunks.append({\n",
    "                \"disease\": disease_name,\n",
    "                \"section\": current_section,\n",
    "                \"content\": \"\\n\".join(current_text)\n",
    "            })\n",
    "            current_text = []\n",
    "\n",
    "        current_section = text\n",
    "    else:\n",
    "        current_text.append(text)\n",
    "\n",
    "# 마지막 섹션 저장\n",
    "if current_section and current_text:\n",
    "    chunks.append({\n",
    "        \"disease\": disease_name,\n",
    "        \"section\": current_section,\n",
    "        \"content\": \"\\n\".join(current_text)\n",
    "    })\n"
   ]
  },
  {
   "cell_type": "code",
   "execution_count": 44,
   "metadata": {},
   "outputs": [
    {
     "name": "stdout",
     "output_type": "stream",
     "text": [
      "done!\n"
     ]
    }
   ],
   "source": [
    "print(\"done!\")\n",
    "\n",
    "# 결과를 JSON 파일로 저장 (가독성 있게)\n",
    "with open(\"구개열_crop_test.json\", \"w\", encoding=\"utf-8\") as f_json:\n",
    "    json.dump(chunks, f_json, ensure_ascii=False, indent=2)\n",
    "\n",
    "# 또는 텍스트 파일로 보기 좋게 저장\n",
    "with open(\"구개열_crop_test.txt\", \"w\", encoding=\"utf-8\") as f_txt:\n",
    "    for chunk in chunks:\n",
    "        f_txt.write(f\"[{chunk['section']}]\\n\")\n",
    "        f_txt.write(chunk[\"content\"] + \"\\n\\n\")\n"
   ]
  },
  {
   "cell_type": "code",
   "execution_count": null,
   "metadata": {},
   "outputs": [],
   "source": []
  }
 ],
 "metadata": {
  "kernelspec": {
   "display_name": "ybgirls",
   "language": "python",
   "name": "python3"
  },
  "language_info": {
   "codemirror_mode": {
    "name": "ipython",
    "version": 3
   },
   "file_extension": ".py",
   "mimetype": "text/x-python",
   "name": "python",
   "nbconvert_exporter": "python",
   "pygments_lexer": "ipython3",
   "version": "3.9.21"
  }
 },
 "nbformat": 4,
 "nbformat_minor": 2
}
